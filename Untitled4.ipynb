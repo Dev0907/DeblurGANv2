{
  "nbformat": 4,
  "nbformat_minor": 0,
  "metadata": {
    "colab": {
      "provenance": [],
      "authorship_tag": "ABX9TyPCsVI9XI2o7sc0Xq+MtPM1",
      "include_colab_link": true
    },
    "kernelspec": {
      "name": "python3",
      "display_name": "Python 3"
    },
    "language_info": {
      "name": "python"
    }
  },
  "cells": [
    {
      "cell_type": "markdown",
      "metadata": {
        "id": "view-in-github",
        "colab_type": "text"
      },
      "source": [
        "<a href=\"https://colab.research.google.com/github/Dev0907/DeblurGANv2/blob/main/Untitled4.ipynb\" target=\"_parent\"><img src=\"https://colab.research.google.com/assets/colab-badge.svg\" alt=\"Open In Colab\"/></a>"
      ]
    },
    {
      "cell_type": "code",
      "execution_count": 4,
      "metadata": {
        "id": "ImDkGMOidYAH"
      },
      "outputs": [],
      "source": [
        "import sys\n",
        "from pathlib import Path\n",
        "\n",
        "import cv2\n",
        "import matplotlib.pyplot as plt\n",
        "import numpy as np\n",
        "from IPython.display import Markdown, display\n",
        "#from openvino.runtime import Core\n",
        "\n",
        "#sys.path.append(\"../utils\")\n",
        "#from notebook_utils import load_image"
      ]
    },
    {
      "cell_type": "code",
      "source": [
        "# A device to use for inference. For example, \"CPU\", or \"GPU\".\n",
        "DEVICE = \"CPU\"\n",
        "\n",
        "# A directory where the model will be downloaded.\n",
        "model_dir = Path(\"model\")\n",
        "model_dir.mkdir(exist_ok=True)\n",
        "\n",
        "# The name of the model from Open Model Zoo.\n",
        "model_name = \"deblurgan-v2\"\n",
        "model_xml_path = model_dir / f\"{model_name}.xml\"\n",
        "ov_model = None\n",
        "\n",
        "precision = \"FP16\""
      ],
      "metadata": {
        "id": "5xIFnlaiefVC"
      },
      "execution_count": 5,
      "outputs": []
    },
    {
      "cell_type": "code",
      "source": [
        "download_command = (\n",
        "    f\"omz_downloader --name {model_name} --output_dir\"\n",
        "    f\" {model_dir} --cache_dir {model_dir}\"\n",
        ")\n",
        "display(Markdown(f\"Download command: `{download_command}`\"))\n",
        "display(Markdown(f\"Downloading {model_name}...\"))\n",
        "! $download_command"
      ],
      "metadata": {
        "colab": {
          "base_uri": "https://localhost:8080/",
          "height": 87
        },
        "id": "Z4QHGc2wejWT",
        "outputId": "110e5035-c6c6-4b38-b149-9af0db5372ab"
      },
      "execution_count": 7,
      "outputs": [
        {
          "output_type": "display_data",
          "data": {
            "text/plain": [
              "<IPython.core.display.Markdown object>"
            ],
            "text/markdown": "Download command: `omz_downloader --name deblurgan-v2 --output_dir model --cache_dir model`"
          },
          "metadata": {}
        },
        {
          "output_type": "display_data",
          "data": {
            "text/plain": [
              "<IPython.core.display.Markdown object>"
            ],
            "text/markdown": "Downloading deblurgan-v2..."
          },
          "metadata": {}
        },
        {
          "output_type": "stream",
          "name": "stdout",
          "text": [
            "/bin/bash: line 1: omz_downloader: command not found\n"
          ]
        }
      ]
    },
    {
      "cell_type": "code",
      "source": [
        "sys.path.append(\"model/public/deblurgan-v2\")\n",
        "\n",
        "import torch\n",
        "\n",
        "#from models.networks import get_generator\n",
        "\n",
        "\n",
        "class DeblurV2(torch.nn.Module):\n",
        "    def __init__(self, weights, model_name):\n",
        "        super().__init__()\n",
        "\n",
        "        parameters = {'g_name': model_name, 'norm_layer': 'instance'}\n",
        "        self.impl = get_generator(parameters)\n",
        "        checkpoint = torch.load(weights, map_location='cpu')['model']\n",
        "        self.impl.load_state_dict(checkpoint)\n",
        "        self.impl.train(True)\n",
        "\n",
        "    def forward(self, image):\n",
        "        out = self.impl(image)\n",
        "        # convert out to [0, 1] range\n",
        "        out = (out + 1) / 2\n",
        "        return out"
      ],
      "metadata": {
        "id": "lFpefW9TeyDd"
      },
      "execution_count": 9,
      "outputs": []
    },
    {
      "cell_type": "code",
      "source": [
        "from openvino.tools import mo\n",
        "from openvino.runtime import serialize\n",
        "\n",
        "deblur_gan_model = DeblurV2(\"model/public/deblurgan-v2/ckpt/fpn_mobilenet.h5\", \"fpn_mobilenet\")\n",
        "\n",
        "with torch.no_grad():\n",
        "    deblur_gan_model.eval()\n",
        "    torch.onnx.export(deblur_gan_model, torch.zeros((1,3,736,1312)), model_xml_path.with_suffix('.onnx'))\n",
        "    ov_model = mo.convert_model(model_xml_path.with_suffix('.onnx'), compress_to_fp16=(precision == \"FP16\"))\n",
        "    serialize(ov_model, str(model_xml_path))"
      ],
      "metadata": {
        "colab": {
          "base_uri": "https://localhost:8080/",
          "height": 383
        },
        "id": "jiXZ_nwUe5hh",
        "outputId": "d44de565-c332-488c-ee28-83b589e33b64"
      },
      "execution_count": 12,
      "outputs": [
        {
          "output_type": "error",
          "ename": "ModuleNotFoundError",
          "evalue": "No module named 'openvino'",
          "traceback": [
            "\u001b[0;31m---------------------------------------------------------------------------\u001b[0m",
            "\u001b[0;31mModuleNotFoundError\u001b[0m                       Traceback (most recent call last)",
            "\u001b[0;32m<ipython-input-12-1084718a785e>\u001b[0m in \u001b[0;36m<cell line: 1>\u001b[0;34m()\u001b[0m\n\u001b[0;32m----> 1\u001b[0;31m \u001b[0;32mfrom\u001b[0m \u001b[0mopenvino\u001b[0m\u001b[0;34m.\u001b[0m\u001b[0mtools\u001b[0m \u001b[0;32mimport\u001b[0m \u001b[0mmo\u001b[0m\u001b[0;34m\u001b[0m\u001b[0;34m\u001b[0m\u001b[0m\n\u001b[0m\u001b[1;32m      2\u001b[0m \u001b[0;32mfrom\u001b[0m \u001b[0mopenvino\u001b[0m\u001b[0;34m.\u001b[0m\u001b[0mruntime\u001b[0m \u001b[0;32mimport\u001b[0m \u001b[0mserialize\u001b[0m\u001b[0;34m\u001b[0m\u001b[0;34m\u001b[0m\u001b[0m\n\u001b[1;32m      3\u001b[0m \u001b[0;34m\u001b[0m\u001b[0m\n\u001b[1;32m      4\u001b[0m \u001b[0mdeblur_gan_model\u001b[0m \u001b[0;34m=\u001b[0m \u001b[0mDeblurV2\u001b[0m\u001b[0;34m(\u001b[0m\u001b[0;34m\"model/public/deblurgan-v2/ckpt/fpn_mobilenet.h5\"\u001b[0m\u001b[0;34m,\u001b[0m \u001b[0;34m\"fpn_mobilenet\"\u001b[0m\u001b[0;34m)\u001b[0m\u001b[0;34m\u001b[0m\u001b[0;34m\u001b[0m\u001b[0m\n\u001b[1;32m      5\u001b[0m \u001b[0;34m\u001b[0m\u001b[0m\n",
            "\u001b[0;31mModuleNotFoundError\u001b[0m: No module named 'openvino'",
            "",
            "\u001b[0;31m---------------------------------------------------------------------------\u001b[0;32m\nNOTE: If your import is failing due to a missing package, you can\nmanually install dependencies using either !pip or !apt.\n\nTo view examples of installing some common dependencies, click the\n\"Open Examples\" button below.\n\u001b[0;31m---------------------------------------------------------------------------\u001b[0m\n"
          ],
          "errorDetails": {
            "actions": [
              {
                "action": "open_url",
                "actionText": "Open Examples",
                "url": "/notebooks/snippets/importing_libraries.ipynb"
              }
            ]
          }
        }
      ]
    }
  ]
}